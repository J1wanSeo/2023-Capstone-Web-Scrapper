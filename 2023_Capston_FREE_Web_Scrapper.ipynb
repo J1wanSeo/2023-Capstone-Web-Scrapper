{
  "nbformat": 4,
  "nbformat_minor": 0,
  "metadata": {
    "colab": {
      "provenance": [],
      "authorship_tag": "ABX9TyPnys502ymQRuV/C25JsAs6",
      "include_colab_link": true
    },
    "kernelspec": {
      "name": "python3",
      "display_name": "Python 3"
    },
    "language_info": {
      "name": "python"
    }
  },
  "cells": [
    {
      "cell_type": "markdown",
      "metadata": {
        "id": "view-in-github",
        "colab_type": "text"
      },
      "source": [
        "<a href=\"https://colab.research.google.com/github/J1wanSeo/2023-Capstone-Web-Scrapper/blob/main/2023_Capston_FREE_Web_Scrapper.ipynb\" target=\"_parent\"><img src=\"https://colab.research.google.com/assets/colab-badge.svg\" alt=\"Open In Colab\"/></a>"
      ]
    },
    {
      "cell_type": "markdown",
      "source": [
        "# FREE Web Scrapper\n",
        "## Library LIST\n",
        " - BeautifulSoup4\n",
        " - request\n",
        " - os\n",
        " -\n",
        "from bs4 import BeautifulSoup\n",
        "from dateutil.parser import parse\n",
        "import datetime\n",
        "import urllib.request as req\n",
        "import telegram\n",
        "import requests\n",
        "import os\n",
        "import re\n",
        "import psycopg2"
      ],
      "metadata": {
        "id": "Z9KiwiyJu_jU"
      }
    },
    {
      "cell_type": "markdown",
      "source": [
        "# Scrapper\n",
        "  - [ ] Making Selection of Libraries which could be used  \n",
        "  - [ ] Extracting informations from websites\n",
        "> 1. Search user input at websites\n",
        "> 2. Show the scrapped result which contains user inputs\n",
        "> 3. Choose favorite recipe including pictures\n",
        "  - [ ] Refine the data from extracted information\n",
        "> 1. Seperate detailed procedures w/ selective practices\n",
        "> 2.\n",
        "##\n",
        "***\n",
        "# Aduino\n",
        "- [ ]\n",
        "- [ ]"
      ],
      "metadata": {
        "id": "79OoRvN9vynV"
      }
    },
    {
      "cell_type": "code",
      "execution_count": null,
      "metadata": {
        "id": "Td6o0DGpugay"
      },
      "outputs": [],
      "source": []
    },
    {
      "cell_type": "code",
      "source": [],
      "metadata": {
        "id": "sGSqGJi1u_Fc"
      },
      "execution_count": null,
      "outputs": []
    }
  ]
}